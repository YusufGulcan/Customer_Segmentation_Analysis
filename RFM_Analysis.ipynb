{
 "cells": [
  {
   "cell_type": "markdown",
   "source": [
    "# Customer Segmentation - RFM Analysis"
   ],
   "metadata": {
    "collapsed": false,
    "pycharm": {
     "name": "#%% md\n"
    }
   }
  },
  {
   "cell_type": "markdown",
   "source": [
    "## Import Dependencies"
   ],
   "metadata": {
    "collapsed": false,
    "pycharm": {
     "name": "#%% md\n"
    }
   },
   "execution_count": 1
  },
  {
   "cell_type": "code",
   "execution_count": 11,
   "outputs": [],
   "source": [
    "import pandas as pd\n",
    "import numpy as np\n",
    "import matplotlib.pyplot as plt\n",
    "import seaborn as sns\n",
    "plt.style.use('fivethirtyeight')                              ## Matplotlib style\n",
    "import warnings\n",
    "warnings.filterwarnings('ignore')                            ## Silence the warnings"
   ],
   "metadata": {
    "collapsed": false,
    "pycharm": {
     "name": "#%%\n"
    }
   }
  },
  {
   "cell_type": "markdown",
   "source": [
    "## Load the data and process"
   ],
   "metadata": {
    "collapsed": false,
    "pycharm": {
     "name": "#%% md\n"
    }
   }
  },
  {
   "cell_type": "code",
   "execution_count": null,
   "outputs": [],
   "source": [
    "df=pd.read_csv(r\"/home/jess/Documents/Github/Customer_Segmentation_Analysis/Sales_.csv\")    ## load the file"
   ],
   "metadata": {
    "collapsed": false,
    "pycharm": {
     "name": "#%%\n"
    }
   }
  },
  {
   "cell_type": "code",
   "execution_count": null,
   "outputs": [],
   "source": [
    "df.drop(columns=['Unnamed: 0'],inplace=True)                                     ## Drop the old index column\n",
    "df.Order_date = df.Order_date.astype('datetime64')                               ## Convert the date column from string to datetime format"
   ],
   "metadata": {
    "collapsed": false,
    "pycharm": {
     "name": "#%%\n"
    }
   }
  },
  {
   "cell_type": "code",
   "execution_count": null,
   "outputs": [],
   "source": [
    "df = df[['Customer_ID','Order_ID','Order_date','Quantity','Price']]                  ## Order the columns\n",
    "df['Revenue'] = df.Quantity * df.Price                                             ## Create a new revenue column"
   ],
   "metadata": {
    "collapsed": false,
    "pycharm": {
     "name": "#%%\n"
    }
   }
  },
  {
   "cell_type": "code",
   "execution_count": null,
   "outputs": [],
   "source": [
    "RFM =df.groupby('Customer_ID').agg({'Order_ID':'count','Revenue':'sum','Order_date':lambda x :(df.Order_date.max()-x.max()).days})    ## Group the data by Customer ID and assing different aggregation functions\n",
    "                                                                                                                                    ## for each column\n",
    "RFM.rename(columns={'Order_ID':'Frequency','Revenue':'Monetary','Order_date':'Recency'},inplace=True)                            ## Rename the columns"
   ],
   "metadata": {
    "collapsed": false,
    "pycharm": {
     "name": "#%%\n"
    }
   }
  },
  {
   "cell_type": "code",
   "execution_count": null,
   "outputs": [],
   "source": [
    "def condition_r(x,col='Frequency'):             ## Create a condition function to convert values in 'F' and 'M' columns\n",
    "    if x < RFM[col].quantile(0.33):              ## The lower the recency value is the better for the business.\n",
    "        return 3\n",
    "    elif x < RFM[col].quantile(0.67):\n",
    "        return 2\n",
    "    else:\n",
    "        return 1"
   ],
   "metadata": {
    "collapsed": false,
    "pycharm": {
     "name": "#%%\n"
    }
   }
  },
  {
   "cell_type": "code",
   "execution_count": null,
   "outputs": [],
   "source": [
    "def condition_f_m(x,col='Frequency'):    ## Create a condition function to convert values in 'F' and 'M' columns\n",
    "    if x < RFM[col].quantile(0.33):       ## The higher the monetary and frequency is the better for the business.\n",
    "        return 1\n",
    "    elif x < RFM[col].quantile(0.67):\n",
    "        return 2\n",
    "    else:\n",
    "        return 3"
   ],
   "metadata": {
    "collapsed": false,
    "pycharm": {
     "name": "#%%\n"
    }
   }
  },
  {
   "cell_type": "code",
   "execution_count": null,
   "outputs": [],
   "source": [
    "RFM['F_label']=RFM.Frequency.apply(lambda x : condition_f_m(x,col='Frequency'))   ## Apply the conversion functions to the columns\n",
    "RFM['M_label']=RFM.Monetary.apply(lambda x : condition_f_m(x,col='Monetary'))\n",
    "RFM['R_label']=RFM.Recency.apply(lambda x : condition_r(x,col='Recency'))"
   ],
   "metadata": {
    "collapsed": false,
    "pycharm": {
     "name": "#%%\n"
    }
   }
  },
  {
   "cell_type": "code",
   "execution_count": null,
   "outputs": [],
   "source": [
    "RFM.head(3)"
   ],
   "metadata": {
    "collapsed": false,
    "pycharm": {
     "name": "#%%\n"
    }
   }
  },
  {
   "cell_type": "markdown",
   "source": [
    "Newly created labels show the ranking for each row. 4 is the best number. The best row is the one with three '4' values. Such row represents a customer who makes purchase frequently, who has spent high amount of money and who purchased very recently."
   ],
   "metadata": {
    "collapsed": false,
    "pycharm": {
     "name": "#%% md\n"
    }
   }
  },
  {
   "cell_type": "code",
   "execution_count": null,
   "outputs": [],
   "source": [
    "RFM['Score'] = RFM[['F_label','M_label','R_label']].sum(axis=1)                      ## Add the values from the three columns\n",
    "RFM = RFM.sort_values('Score',ascending=False)                           ## Sort  the dataframe by the newly created column"
   ],
   "metadata": {
    "collapsed": false,
    "pycharm": {
     "name": "#%%\n"
    }
   }
  },
  {
   "cell_type": "code",
   "execution_count": null,
   "outputs": [],
   "source": [
    "RFM['Segment'] = pd.qcut(RFM.Score,3,['Diamond','Gold','Silver'][::-1])    ## Divide the Score values into 4 different parts\n",
    "RFM.head()"
   ],
   "metadata": {
    "collapsed": false,
    "pycharm": {
     "name": "#%%\n"
    }
   }
  },
  {
   "cell_type": "code",
   "execution_count": null,
   "outputs": [],
   "source": [
    "RFM.Segment.value_counts()                     ## The number of customers belonging to each segment"
   ],
   "metadata": {
    "collapsed": false,
    "pycharm": {
     "name": "#%%\n"
    }
   }
  },
  {
   "cell_type": "markdown",
   "source": [
    "## RFM Exploratory Data Analysis"
   ],
   "metadata": {
    "collapsed": false,
    "pycharm": {
     "name": "#%% md\n"
    }
   }
  },
  {
   "cell_type": "code",
   "execution_count": null,
   "outputs": [],
   "source": [
    "fig,axes = plt.subplots(1,4, figsize=(18,4))                            ## Plotting the distribution of customers by each feature\n",
    "plt.suptitle('Distribution of Features')                            ## title\n",
    "sns.histplot(RFM.Frequency,ax = axes[0],color='brown',kde=True)\n",
    "sns.histplot(RFM.Recency,ax = axes[1],color='green',kde=True)\n",
    "sns.histplot(RFM.Monetary,ax = axes[2],kde=True)\n",
    "sns.histplot(RFM.Segment,ax = axes[3],color='y')\n",
    "plt.show()"
   ],
   "metadata": {
    "collapsed": false,
    "pycharm": {
     "name": "#%%\n"
    }
   }
  },
  {
   "cell_type": "markdown",
   "source": [
    "## Correlation Between The Features"
   ],
   "metadata": {
    "collapsed": false,
    "pycharm": {
     "name": "#%% md\n"
    }
   }
  },
  {
   "cell_type": "code",
   "execution_count": null,
   "outputs": [],
   "source": [
    "cor = RFM.corr()                                           ## correlation matrix\n",
    "sns.heatmap(cor,annot=True, cmap= 'viridis',annot_kws={'size':12})\n",
    "plt.xticks(rotation = 45)\n",
    "plt.show()"
   ],
   "metadata": {
    "collapsed": false,
    "pycharm": {
     "name": "#%%\n"
    }
   }
  },
  {
   "cell_type": "code",
   "execution_count": null,
   "outputs": [],
   "source": [
    "fig,axes = plt.subplots(1,3,figsize=(21,4))                   ## Comparison of customers on different pair of shoes\n",
    "plt.suptitle('Comparison of Features')\n",
    "sns.scatterplot(x=RFM.Frequency,y=RFM.Recency,hue=RFM.Segment,ax=axes[0],legend=False)\n",
    "sns.scatterplot(x=RFM.Monetary,y=RFM.Recency,hue=RFM.Segment,ax=axes[1])\n",
    "sns.scatterplot(x=RFM.Monetary,y=RFM.Frequency,hue=RFM.Segment,ax=axes[2],legend=False)\n",
    "plt.show()"
   ],
   "metadata": {
    "collapsed": false,
    "pycharm": {
     "name": "#%%\n"
    }
   }
  },
  {
   "cell_type": "markdown",
   "source": [
    "Here, these scatterplots show the correlation between the columns;\n",
    " **Frequency** is positively correlated with **Monetary**, negatively correlated with **Recency**,\n",
    " **Recency** is negatively correlated with **Monetary** and **Frequency**,\n",
    " **Monetary** is positively correlated with **Frequency**, negatively correlated with **Recency**."
   ],
   "metadata": {
    "collapsed": false,
    "pycharm": {
     "name": "#%% md\n"
    }
   }
  },
  {
   "cell_type": "markdown",
   "source": [
    "## Business Strategy According to the Findings"
   ],
   "metadata": {
    "collapsed": false,
    "pycharm": {
     "name": "#%% md\n"
    }
   }
  },
  {
   "cell_type": "markdown",
   "source": [
    "As a result of the analysis, there are 3 main customer segments; Diamond,Gold,Silver. General profile of a customer is as following:\n",
    "\n",
    "**Diamond** -  This segment is the most valuable among all. Losing these customers would severely hit the profitability of the business. The behaviours of these customers show that they are happy with the quality, price and other conditions. Therefore, customers from this segment should be provided with more than ordinary promotions to boost the relationship even more. An example could be giving early access for new productions, involving them into the decision-making processes of the business.\n",
    "\n",
    "**Gold** - This segment is also happy with the business operations, however there are still some subtle improvements to make. Some may show relatively low frequency, some may have a low purchase volume. It is crucial to detect the improvable part and create solutions. For example; If the frequency is low, making analysis of substitute products on the market would be a good idea, because low frequency generally is an indicator of that the customer buys the products of other brands from time to time.\n",
    "\n",
    "**Silver** - Silver customers are the hardest segment to regain.Renewed price lists, promotions, different accessibility options could be tried for strengthen the relationship. Example; if the problem is high recency, it is an amazing way to remind the products of the business by reaching out to the customers with new deals and promotions so that they get back to the old routine. Retention costs are high for this segment. They require more effort, more money and more time to be retained. It is not always profitable to spend resources for this segment. Only if the business aims to get more market share and profitability is not the priority, this segment should be targeted. Low cost activities should be chosen to detect what caused them to avoid the products."
   ],
   "metadata": {
    "collapsed": false,
    "pycharm": {
     "name": "#%% md\n"
    }
   }
  }
 ],
 "metadata": {
  "kernelspec": {
   "display_name": "Python 3",
   "language": "python",
   "name": "python3"
  },
  "language_info": {
   "codemirror_mode": {
    "name": "ipython",
    "version": 2
   },
   "file_extension": ".py",
   "mimetype": "text/x-python",
   "name": "python",
   "nbconvert_exporter": "python",
   "pygments_lexer": "ipython2",
   "version": "2.7.6"
  }
 },
 "nbformat": 4,
 "nbformat_minor": 0
}